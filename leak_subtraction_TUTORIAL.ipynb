{
 "cells": [
  {
   "cell_type": "markdown",
   "id": "c7c1f919",
   "metadata": {},
   "source": [
    "# Isolating Bioelectrical Signal by Leak Subtraction"
   ]
  },
  {
   "cell_type": "markdown",
   "id": "ac2e2936",
   "metadata": {},
   "source": [
    "### *Personal Note*"
   ]
  },
  {
   "cell_type": "markdown",
   "id": "8bb56bd6",
   "metadata": {},
   "source": [
    "*I like this analysis because it is tidy and neat. From a general data science perspective it demonstates signal processing, parameter optimization, model fitting, and some biophysics. The data was part of a more extensive projected were I explored the application of stem cell derived cardiomyocytes in arrhythmia detection. I hope you find it interesting.*"
   ]
  },
  {
   "cell_type": "markdown",
   "id": "077911b2",
   "metadata": {},
   "source": [
    "## 1. Introduction"
   ]
  },
  {
   "cell_type": "markdown",
   "id": "ac9e86c1",
   "metadata": {},
   "source": [
    "Electrial signals play a critical role in the normal physiology of biological cells. Consequently, it is of interest to understand and develop models of cellular electrophysiology for biotechnical and theraputic reasons. The development of electrophysiolgical models and experimental techniques to measure bioelectrical activity has an incredibly rich history. I found the field interesting because it is an area of biology that can be studied from a from a bottom-up approach.\n",
    "\n",
    "The technical setup I used to acquire the data used here is called a voltage patch clamp (VC). During a VC experiment an electrode is placed beneath the cellular membrane to control the voltage across the membrane. A time-series of voltages are then input across the cellular membrane and the total current is recorded as output.\n",
    "\n",
    "This particular data is my out-of-sample data that I need to clean up to evaluate the model's predictive performance. In the last section I will qualitatively compare the cleaned signal to a trained model.\n",
    "\n",
    "The time-series data is defined:\n",
    "\n",
    "***Input***: Voltage in $millivolt\\text{ }(mV) $<br>\n",
    "***Output***: Current density in $picoampere * picofarad^{-1}\\text{ }(pA/pF)$\n",
    "\n",
    "Let's take a look at the data."
   ]
  },
  {
   "cell_type": "code",
   "execution_count": 1,
   "id": "a55b5180",
   "metadata": {},
   "outputs": [],
   "source": [
    "%matplotlib inline"
   ]
  },
  {
   "cell_type": "code",
   "execution_count": 2,
   "id": "85d6d69e",
   "metadata": {},
   "outputs": [],
   "source": [
    "import pandas as pd\n",
    "import numpy as np\n",
    "import matplotlib.pyplot as plt"
   ]
  },
  {
   "cell_type": "code",
   "execution_count": 3,
   "id": "1a440ce7",
   "metadata": {},
   "outputs": [
    {
     "data": {
      "text/html": [
       "<div>\n",
       "<style scoped>\n",
       "    .dataframe tbody tr th:only-of-type {\n",
       "        vertical-align: middle;\n",
       "    }\n",
       "\n",
       "    .dataframe tbody tr th {\n",
       "        vertical-align: top;\n",
       "    }\n",
       "\n",
       "    .dataframe thead th {\n",
       "        text-align: right;\n",
       "    }\n",
       "</style>\n",
       "<table border=\"1\" class=\"dataframe\">\n",
       "  <thead>\n",
       "    <tr style=\"text-align: right;\">\n",
       "      <th></th>\n",
       "      <th>t_ms</th>\n",
       "      <th>i_pApF</th>\n",
       "      <th>mV</th>\n",
       "    </tr>\n",
       "  </thead>\n",
       "  <tbody>\n",
       "    <tr>\n",
       "      <th>0</th>\n",
       "      <td>0.0</td>\n",
       "      <td>-1.857508</td>\n",
       "      <td>-80.000000</td>\n",
       "    </tr>\n",
       "    <tr>\n",
       "      <th>1</th>\n",
       "      <td>0.1</td>\n",
       "      <td>-1.892333</td>\n",
       "      <td>-79.955966</td>\n",
       "    </tr>\n",
       "    <tr>\n",
       "      <th>2</th>\n",
       "      <td>0.2</td>\n",
       "      <td>-1.827658</td>\n",
       "      <td>-79.911932</td>\n",
       "    </tr>\n",
       "    <tr>\n",
       "      <th>3</th>\n",
       "      <td>0.3</td>\n",
       "      <td>-1.862483</td>\n",
       "      <td>-79.867898</td>\n",
       "    </tr>\n",
       "    <tr>\n",
       "      <th>4</th>\n",
       "      <td>0.4</td>\n",
       "      <td>-1.912233</td>\n",
       "      <td>-79.823864</td>\n",
       "    </tr>\n",
       "  </tbody>\n",
       "</table>\n",
       "</div>"
      ],
      "text/plain": [
       "   t_ms    i_pApF         mV\n",
       "0   0.0 -1.857508 -80.000000\n",
       "1   0.1 -1.892333 -79.955966\n",
       "2   0.2 -1.827658 -79.911932\n",
       "3   0.3 -1.862483 -79.867898\n",
       "4   0.4 -1.912233 -79.823864"
      ]
     },
     "execution_count": 3,
     "metadata": {},
     "output_type": "execute_result"
    }
   ],
   "source": [
    "c5_vc = pd.read_csv('./c5_vc_tImV.csv', delimiter=' ')\n",
    "c5_vc.head()"
   ]
  },
  {
   "cell_type": "code",
   "execution_count": 4,
   "id": "e3febe95",
   "metadata": {
    "scrolled": true
   },
   "outputs": [
    {
     "data": {
      "image/png": "[encoded data removed]",
      "text/plain": [
       "<Figure size 720x360 with 2 Axes>"
      ]
     },
     "metadata": {
      "needs_background": "light"
     },
     "output_type": "display_data"
    }
   ],
   "source": [
    "fig, (ax1, ax2) = plt.subplots(2,1, sharex=True, figsize=(10,5))\n",
    "# Draw voltage trace\n",
    "ax1.plot(c5_vc.t_ms/1000, c5_vc.mV, color='black', linestyle='--')\n",
    "ax1.set_ylabel('mV', color='black')\n",
    "ax1.yaxis.label.set(rotation='horizontal', ha='right');\n",
    "\n",
    "# Draw current trace\n",
    "ax2.plot(c5_vc.t_ms/1000, c5_vc.i_pApF, color='red')\n",
    "ax2.set_xlabel('t (s)', color='black')\n",
    "ax2.set_ylabel('pA / pF')\n",
    "ax2.yaxis.label.set(rotation='horizontal', ha='right');\n",
    "\n",
    "fig.tight_layout()\n",
    "plt.show()"
   ]
  },
  {
   "cell_type": "markdown",
   "id": "04699771",
   "metadata": {},
   "source": [
    "#### Notes and observations about the data"
   ]
  },
  {
   "cell_type": "markdown",
   "id": "ab8f059e",
   "metadata": {},
   "source": [
    "1. The command-voltage (input) waveform was choosen before the experiment. The shape mimics 4 cardiomyocyte action potentials (APs).\n",
    "\n",
    "2. The temporal resolution is 0.1 ms.\n",
    "\n",
    "3. The signal I want to isolate is nonlinear over the votlage trace and is dependent on both time and voltage.\n",
    "\n",
    "4. There is high frequency (hf) noise component that is recorded during the experiment. The magnitude of the hf-noise is much smaller than the signal. I calibrated the equipment and try to denoise the instruments as much as possible. I also checked to ensure the hf-noise in normally distributed at several voltages prior to the experiment."
   ]
  },
  {
   "cell_type": "markdown",
   "id": "17fae3b6",
   "metadata": {},
   "source": [
    "## 2. Linear Leak Current"
   ]
  },
  {
   "cell_type": "markdown",
   "id": "6c73a63b",
   "metadata": {},
   "source": [
    "The raw output contains a nonlinear current that is from the cell (the part to isolate) and noise from the instrument. There is an additional component in the output that arises during a voltage clamp experiment because the electrode cannot be perfectly placed on the interior of the cell membrane. This component is referred to as *leak current* and follows Ohm's law:\n",
    "$$\n",
    "    V = IR\n",
    "$$\n",
    "where V is the voltage, I is current and R is resistance. In voltage clamp data, I is the dependent variable and V is the independent variable. So it is more useful to rewrite the equation:\n",
    "$$\n",
    "    I = GV\n",
    "$$\n",
    "where G is the conductance and is R^-1 (in nanosiemen, nS).\n",
    "\n",
    "A leak current by definition reverses direction at the origin (V=0, I=0). Other biological currents conduct specific ions (K+, Cl-, Na+, etc.) and do not have reversal potentials at the origin. These offsets are generated by the biological cell's electrical proteins that pump ions to different sides of the membrane creating a chemical potential."
   ]
  },
  {
   "cell_type": "markdown",
   "id": "9a49fa38",
   "metadata": {},
   "source": [
    "### Fitting the leak conductance: *G*"
   ]
  },
  {
   "cell_type": "markdown",
   "id": "40918688",
   "metadata": {},
   "source": [
    "The data and the model equation for the leak component have been defined. The parameter to optimize is the leak conductance *G*. \n",
    "\n",
    "I will minimize the root mean squared error (RMSE) manually at first and then again using a *scipy*'s *minimize_scalar* function."
   ]
  },
  {
   "cell_type": "markdown",
   "id": "421891b1",
   "metadata": {},
   "source": [
    "*There is an interpretation of G that can indicate the overall quality of the data, but requires more experimental context and parameters. Since the objective here is to isolate the biological current, the optimized value of G will be the product of multiple parameters that fits the leak current best. This differs from the leak_subtraction_BATCH.py version.*"
   ]
  },
  {
   "cell_type": "code",
   "execution_count": 5,
   "id": "3e05dd73",
   "metadata": {},
   "outputs": [],
   "source": [
    "# Define the range of G that covers several orders of magnitude\n",
    "g_leak = np.logspace(start=-5, stop=-1, num=50, endpoint=True)  # I used some trial and error\n",
    "\n",
    "# Define a function to calculate RMSE\n",
    "def calc_rmse(i_pApF, i_leak_pApF):\n",
    "    n = float(len(i_pApF)) # number of points\n",
    "    rmse = (sum((i_pApF - i_leak_pApF)**2) / n)**0.5\n",
    "    return(rmse)\n",
    "\n",
    "# Loop through and calculate the RMSE for the conductance range\n",
    "rmse_leak = []\n",
    "for g in g_leak:\n",
    "    i_leak = (g * c5_vc.mV)\n",
    "    rmse_leak.append(calc_rmse(c5_vc.i_pApF, i_leak))"
   ]
  },
  {
   "cell_type": "code",
   "execution_count": 6,
   "id": "16cbfcf9",
   "metadata": {},
   "outputs": [
    {
     "name": "stdout",
     "output_type": "stream",
     "text": [
      "G_leak Estimate: 0.010481131341546853\n"
     ]
    },
    {
     "data": {
      "image/png": "[encoded data removed]",
      "text/plain": [
       "<Figure size 432x288 with 1 Axes>"
      ]
     },
     "metadata": {
      "needs_background": "light"
     },
     "output_type": "display_data"
    }
   ],
   "source": [
    "# Find the value of G that minimizes RMSE\n",
    "g_leak_crude = g_leak[rmse_leak.index(min(rmse_leak))]\n",
    "print(f\"G_leak Estimate: {g_leak_crude}\")\n",
    "\n",
    "# Plot RMSE v G and G-crude\n",
    "plt.plot(g_leak, rmse_leak)\n",
    "plt.xlabel('G (nS/pF)')\n",
    "plt.ylabel('RMSE (mV)')\n",
    "plt.vlines(x = g_leak_crude, ymin = min(rmse_leak), ymax = max(rmse_leak),\n",
    "           colors = 'tab:orange',\n",
    "           linestyle='--',\n",
    "           label = 'G-leak')\n",
    "plt.legend(loc=4)\n",
    "plt.show()"
   ]
  },
  {
   "cell_type": "markdown",
   "id": "ba624702",
   "metadata": {},
   "source": [
    "*Not bad! The value of G has a clear minimum.*"
   ]
  },
  {
   "cell_type": "markdown",
   "id": "2ca43067",
   "metadata": {},
   "source": [
    "### Fitting with *minimize_scalar*"
   ]
  },
  {
   "cell_type": "code",
   "execution_count": 7,
   "id": "271d2411",
   "metadata": {},
   "outputs": [],
   "source": [
    "from scipy.optimize import minimize_scalar"
   ]
  },
  {
   "cell_type": "code",
   "execution_count": 8,
   "id": "0d056edc",
   "metadata": {},
   "outputs": [],
   "source": [
    "# minimize_scalar needs a scalar function as an argument\n",
    "def objective_min_rmse(g):\n",
    "    i_leak = (g * c5_vc.mV)\n",
    "    return(calc_rmse(c5_vc.i_pApF, i_leak))"
   ]
  },
  {
   "cell_type": "code",
   "execution_count": 9,
   "id": "da4bb263",
   "metadata": {
    "scrolled": true
   },
   "outputs": [
    {
     "data": {
      "text/plain": [
       "     fun: 1.2442661461134306\n",
       "    nfev: 18\n",
       "     nit: 14\n",
       " success: True\n",
       "       x: 0.011047083109320168"
      ]
     },
     "execution_count": 9,
     "metadata": {},
     "output_type": "execute_result"
    }
   ],
   "source": [
    "res = minimize_scalar(objective_min_rmse)\n",
    "res"
   ]
  },
  {
   "cell_type": "markdown",
   "id": "d347b86e",
   "metadata": {},
   "source": [
    "*The solution from minimize_scalar is more precise, so is preferred. Occasionally, it is helpful to me to solve the problem in multiple ways for sanity.*"
   ]
  },
  {
   "cell_type": "markdown",
   "id": "807cf2e4",
   "metadata": {},
   "source": [
    "### Visualization of the fitted leak current"
   ]
  },
  {
   "cell_type": "markdown",
   "id": "ac0ab9b0",
   "metadata": {},
   "source": [
    "In the previous section we calculated the leak conductance. Next, I'll visiualize the leak component and subtract it from the raw current. "
   ]
  },
  {
   "cell_type": "code",
   "execution_count": 10,
   "id": "70ed3109",
   "metadata": {},
   "outputs": [],
   "source": [
    "# Calculate the leak current with the optimized conductance\n",
    "i_leak_fitted = res.x * c5_vc.mV"
   ]
  },
  {
   "cell_type": "code",
   "execution_count": 11,
   "id": "14d47632",
   "metadata": {
    "scrolled": true
   },
   "outputs": [
    {
     "data": {
      "image/png": "[encoded data removed]",
      "text/plain": [
       "<Figure size 720x360 with 1 Axes>"
      ]
     },
     "metadata": {
      "needs_background": "light"
     },
     "output_type": "display_data"
    }
   ],
   "source": [
    "fig, ax = plt.subplots(figsize=(10,5))\n",
    "# Plot the raw current with the leak component with a focused view from 1 to 3 seconds\n",
    "ax.plot(c5_vc.t_ms/1000, c5_vc.i_pApF, color='red', label='Raw Current')\n",
    "ax.plot(c5_vc.t_ms/1000, i_leak_fitted, label='Leak Current', color='tab:gray')\n",
    "plt.xlim(1.0, 3.0)\n",
    "ax.set_xlabel('t(s)', color='black')\n",
    "ax.set_ylabel('pA/pF', color='black')\n",
    "ax.yaxis.label.set(rotation='horizontal', ha='right')\n",
    "plt.legend(loc=4)\n",
    "plt.show()\n"
   ]
  },
  {
   "cell_type": "markdown",
   "id": "14e9ebf8",
   "metadata": {},
   "source": [
    "*Physiological Context*\n",
    "\n",
    "*The different phases of the voltage waveform (dotted grey in the first figure) highlight the biological signal. If you recall having your blood pressure (BP) taken there are two pressure readings that correspond to single-cell phases observed here, the systolic (higher number ~120 mmHg) and the diastolic (lower number ~80 mmHg). The systolic phase corresponds to when the heart has contracted pumping blood through the body (hence the higher pressure reading). In this zoomed in view there there are two single-cell contractions starting just before 1.5 and 2.5 seconds that end approximately 0.45 seconds later. The diastolic phase follows the systolic phase when the heart muscle is relaxing the filling with blood. The cardiac cell here relaxes and the voltage and current remains nearly constant during diastolic phase.*"
   ]
  },
  {
   "cell_type": "markdown",
   "id": "9cb25850",
   "metadata": {},
   "source": [
    "**Notes and observations about the fitted leak current**\n",
    "\n",
    "1. There is a negative current downstroke just before 1.5 and 2.5 seconds. This contrasts the leak current which is increasing.\n",
    "2. The leak contributes to the postive current magnitude following the downstroke.\n",
    "3. Raw current is approximately the same magnitude as the leak current during the diastolic phase. For instance, the current between ~1.85 and 2.45 s."
   ]
  },
  {
   "cell_type": "markdown",
   "id": "f9d3ad11",
   "metadata": {},
   "source": [
    "## 3. Comparison of the leak-subtracted current to the predicted current from a trained model  "
   ]
  },
  {
   "cell_type": "markdown",
   "id": "329d0c2f",
   "metadata": {},
   "source": [
    "In this last section, I want to calculate the error between the leak subtracted current and the *total current* predicted by a trained model. The biological current presented thus far is the summation of currents from specific proteins that facilitate ions passing between the inside and outside the cell. In the voltage-clamp experiment described above, there is no way to easily deconvolute the *total current* to find the quantities of the specific currents. In cardiomyocyte models the known currents (characterized by prior experiments) are specified, and training a model to single-cell dataset involves optimizing the quantities of each current.\n",
    "\n",
    "Let's take a look at the model data."
   ]
  },
  {
   "cell_type": "code",
   "execution_count": 12,
   "id": "5d459d47",
   "metadata": {},
   "outputs": [
    {
     "data": {
      "text/html": [
       "<div>\n",
       "<style scoped>\n",
       "    .dataframe tbody tr th:only-of-type {\n",
       "        vertical-align: middle;\n",
       "    }\n",
       "\n",
       "    .dataframe tbody tr th {\n",
       "        vertical-align: top;\n",
       "    }\n",
       "\n",
       "    .dataframe thead th {\n",
       "        text-align: right;\n",
       "    }\n",
       "</style>\n",
       "<table border=\"1\" class=\"dataframe\">\n",
       "  <thead>\n",
       "    <tr style=\"text-align: right;\">\n",
       "      <th></th>\n",
       "      <th>I_total</th>\n",
       "      <th>I_K1</th>\n",
       "      <th>I_To</th>\n",
       "      <th>I_Kr</th>\n",
       "      <th>I_Ks</th>\n",
       "      <th>I_CaL</th>\n",
       "      <th>I_NaK</th>\n",
       "      <th>I_Na</th>\n",
       "      <th>I_NaCa</th>\n",
       "      <th>I_pCa</th>\n",
       "      <th>I_F</th>\n",
       "      <th>I_bNa</th>\n",
       "      <th>I_bCa</th>\n",
       "      <th>I_CaT</th>\n",
       "      <th>t</th>\n",
       "      <th>vcmd</th>\n",
       "    </tr>\n",
       "  </thead>\n",
       "  <tbody>\n",
       "    <tr>\n",
       "      <th>0</th>\n",
       "      <td>-0.290568</td>\n",
       "      <td>0.052684</td>\n",
       "      <td>9.196453e-21</td>\n",
       "      <td>0.000374</td>\n",
       "      <td>0.000405</td>\n",
       "      <td>-0.016171</td>\n",
       "      <td>0.091149</td>\n",
       "      <td>-0.001693</td>\n",
       "      <td>-0.025176</td>\n",
       "      <td>0.007631</td>\n",
       "      <td>-0.382574</td>\n",
       "      <td>-0.001318</td>\n",
       "      <td>-0.013278</td>\n",
       "      <td>-0.002603</td>\n",
       "      <td>0.0</td>\n",
       "      <td>-80.000000</td>\n",
       "    </tr>\n",
       "    <tr>\n",
       "      <th>1</th>\n",
       "      <td>-0.290078</td>\n",
       "      <td>0.052882</td>\n",
       "      <td>9.248325e-21</td>\n",
       "      <td>0.000376</td>\n",
       "      <td>0.000407</td>\n",
       "      <td>-0.016180</td>\n",
       "      <td>0.091184</td>\n",
       "      <td>-0.001708</td>\n",
       "      <td>-0.025111</td>\n",
       "      <td>0.007631</td>\n",
       "      <td>-0.382354</td>\n",
       "      <td>-0.001318</td>\n",
       "      <td>-0.013277</td>\n",
       "      <td>-0.002612</td>\n",
       "      <td>0.1</td>\n",
       "      <td>-79.955966</td>\n",
       "    </tr>\n",
       "    <tr>\n",
       "      <th>2</th>\n",
       "      <td>-0.289588</td>\n",
       "      <td>0.053079</td>\n",
       "      <td>9.300197e-21</td>\n",
       "      <td>0.000378</td>\n",
       "      <td>0.000409</td>\n",
       "      <td>-0.016188</td>\n",
       "      <td>0.091219</td>\n",
       "      <td>-0.001722</td>\n",
       "      <td>-0.025047</td>\n",
       "      <td>0.007631</td>\n",
       "      <td>-0.382133</td>\n",
       "      <td>-0.001317</td>\n",
       "      <td>-0.013275</td>\n",
       "      <td>-0.002622</td>\n",
       "      <td>0.2</td>\n",
       "      <td>-79.911932</td>\n",
       "    </tr>\n",
       "    <tr>\n",
       "      <th>3</th>\n",
       "      <td>-0.289098</td>\n",
       "      <td>0.053277</td>\n",
       "      <td>9.352070e-21</td>\n",
       "      <td>0.000380</td>\n",
       "      <td>0.000411</td>\n",
       "      <td>-0.016197</td>\n",
       "      <td>0.091253</td>\n",
       "      <td>-0.001737</td>\n",
       "      <td>-0.024982</td>\n",
       "      <td>0.007631</td>\n",
       "      <td>-0.381913</td>\n",
       "      <td>-0.001317</td>\n",
       "      <td>-0.013274</td>\n",
       "      <td>-0.002631</td>\n",
       "      <td>0.3</td>\n",
       "      <td>-79.867898</td>\n",
       "    </tr>\n",
       "    <tr>\n",
       "      <th>4</th>\n",
       "      <td>-0.288608</td>\n",
       "      <td>0.053474</td>\n",
       "      <td>9.403942e-21</td>\n",
       "      <td>0.000382</td>\n",
       "      <td>0.000413</td>\n",
       "      <td>-0.016206</td>\n",
       "      <td>0.091288</td>\n",
       "      <td>-0.001751</td>\n",
       "      <td>-0.024918</td>\n",
       "      <td>0.007631</td>\n",
       "      <td>-0.381692</td>\n",
       "      <td>-0.001317</td>\n",
       "      <td>-0.013272</td>\n",
       "      <td>-0.002641</td>\n",
       "      <td>0.4</td>\n",
       "      <td>-79.823864</td>\n",
       "    </tr>\n",
       "  </tbody>\n",
       "</table>\n",
       "</div>"
      ],
      "text/plain": [
       "    I_total      I_K1          I_To      I_Kr      I_Ks     I_CaL     I_NaK  \\\n",
       "0 -0.290568  0.052684  9.196453e-21  0.000374  0.000405 -0.016171  0.091149   \n",
       "1 -0.290078  0.052882  9.248325e-21  0.000376  0.000407 -0.016180  0.091184   \n",
       "2 -0.289588  0.053079  9.300197e-21  0.000378  0.000409 -0.016188  0.091219   \n",
       "3 -0.289098  0.053277  9.352070e-21  0.000380  0.000411 -0.016197  0.091253   \n",
       "4 -0.288608  0.053474  9.403942e-21  0.000382  0.000413 -0.016206  0.091288   \n",
       "\n",
       "       I_Na    I_NaCa     I_pCa       I_F     I_bNa     I_bCa     I_CaT    t  \\\n",
       "0 -0.001693 -0.025176  0.007631 -0.382574 -0.001318 -0.013278 -0.002603  0.0   \n",
       "1 -0.001708 -0.025111  0.007631 -0.382354 -0.001318 -0.013277 -0.002612  0.1   \n",
       "2 -0.001722 -0.025047  0.007631 -0.382133 -0.001317 -0.013275 -0.002622  0.2   \n",
       "3 -0.001737 -0.024982  0.007631 -0.381913 -0.001317 -0.013274 -0.002631  0.3   \n",
       "4 -0.001751 -0.024918  0.007631 -0.381692 -0.001317 -0.013272 -0.002641  0.4   \n",
       "\n",
       "        vcmd  \n",
       "0 -80.000000  \n",
       "1 -79.955966  \n",
       "2 -79.911932  \n",
       "3 -79.867898  \n",
       "4 -79.823864  "
      ]
     },
     "execution_count": 12,
     "metadata": {},
     "output_type": "execute_result"
    }
   ],
   "source": [
    "model = pd.read_csv('model_3_kernik_vcp.txt', delimiter=' ')\n",
    "model.head()"
   ]
  },
  {
   "cell_type": "markdown",
   "id": "3c401eba",
   "metadata": {},
   "source": [
    "The current needed to calculate the error is the *I_total.* I have cleaned the model data prior to loading it, so it should be ready to compare, but first we need to subtract the leak current. The leak current is an experimental artifact, so is not modeled."
   ]
  },
  {
   "cell_type": "code",
   "execution_count": 15,
   "id": "bd671d35",
   "metadata": {},
   "outputs": [],
   "source": [
    "# Subtract the leak current from the raw current\n",
    "i_leak_subtracted = c5_vc.i_pApF - i_leak_fitted"
   ]
  },
  {
   "cell_type": "code",
   "execution_count": 16,
   "id": "e40db16b",
   "metadata": {},
   "outputs": [
    {
     "data": {
      "image/png": "[encoded data removed]",
      "text/plain": [
       "<Figure size 720x360 with 1 Axes>"
      ]
     },
     "metadata": {
      "needs_background": "light"
     },
     "output_type": "display_data"
    }
   ],
   "source": [
    "# Plot I_total and i_leak_subtracted\n",
    "fig, ax = plt.subplots(figsize=(10,5))\n",
    "ax.plot(c5_vc.t_ms/1000, i_leak_subtracted, label='Leak Subtracted', color='tab:blue')\n",
    "ax.plot(model.t/1000, model.I_total, label='Model Prediction', color='tab:orange')\n",
    "ax.set_xlabel('t (s)', color='black')\n",
    "ax.set_ylabel('pA/pF', color='black')\n",
    "ax.yaxis.label.set(rotation='horizontal', ha='right')\n",
    "plt.legend(loc=4)\n",
    "plt.show()"
   ]
  },
  {
   "cell_type": "markdown",
   "id": "7f192200",
   "metadata": {},
   "source": [
    "We could use previously defined function *calc_rmse(i_pApF, i_leak_pApF)* to get the RMSE, but because the model current is a prediction it would be useful to know where the deviations occur. "
   ]
  },
  {
   "cell_type": "code",
   "execution_count": 17,
   "id": "dc42c726",
   "metadata": {},
   "outputs": [
    {
     "name": "stdout",
     "output_type": "stream",
     "text": [
      "Experiment: 40001, Model: 40001\n"
     ]
    }
   ],
   "source": [
    "# Check the length of the current traces\n",
    "print(f'Experiment: {len(i_leak_subtracted)}, Model: {len(model.I_total)}')"
   ]
  },
  {
   "cell_type": "code",
   "execution_count": 18,
   "id": "2af76ac6",
   "metadata": {},
   "outputs": [],
   "source": [
    "# Calculate the square error for plotting\n",
    "sqr_err = (i_leak_subtracted - model.I_total)**2"
   ]
  },
  {
   "cell_type": "code",
   "execution_count": 20,
   "id": "26c68729",
   "metadata": {},
   "outputs": [
    {
     "data": {
      "image/png": "[encoded data removed]",
      "text/plain": [
       "<Figure size 720x360 with 1 Axes>"
      ]
     },
     "metadata": {
      "needs_background": "light"
     },
     "output_type": "display_data"
    }
   ],
   "source": [
    "# Plot the error\n",
    "fig, ax = plt.subplots(figsize=(10,5))\n",
    "ax.plot(c5_vc.t_ms/1000, sqr_err, color='red')\n",
    "ax.set_xlabel('t (s)', color='black')\n",
    "ax.set_ylabel('Error $(pA / pF)^2$')\n",
    "ax.yaxis.label.set(rotation='horizontal', ha='right');\n",
    "plt.show()"
   ]
  },
  {
   "cell_type": "markdown",
   "id": "298f5a42",
   "metadata": {},
   "source": [
    "### Findings and takeaways"
   ]
  },
  {
   "cell_type": "markdown",
   "id": "00837378",
   "metadata": {},
   "source": [
    "1. There are two areas in the current trace where we can visually identify a deviation between the model and the experiment. The negative current spike at the beginning of the action potential which is approximately at 0.5, 1.5, 2.5, 3.5 s, and the repolarization ~0.430 s following. The specific currents that are active during these phases will indicate which quanties are off. Qualitatively the model does well, but quantitative predictions need to be approached with caution. These models are often used to predict drug safety for potential theraputics before clinical trials. Drug interactions effects are quite complex, so models are valuable for their interpretability. \n",
    "2. The linear leak current can be separated from the nonlinear bioelectric current and is critical for model comparison."
   ]
  }
 ],
 "metadata": {
  "kernelspec": {
   "display_name": "Python 3",
   "language": "python",
   "name": "python3"
  },
  "language_info": {
   "codemirror_mode": {
    "name": "ipython",
    "version": 3
   },
   "file_extension": ".py",
   "mimetype": "text/x-python",
   "name": "python",
   "nbconvert_exporter": "python",
   "pygments_lexer": "ipython3",
   "version": "3.8.8"
  }
 },
 "nbformat": 4,
 "nbformat_minor": 5
}
