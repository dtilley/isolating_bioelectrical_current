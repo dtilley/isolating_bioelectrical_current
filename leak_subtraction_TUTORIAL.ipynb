{
 "cells": [
  {
   "cell_type": "markdown",
   "id": "c7c1f919",
   "metadata": {},
   "source": [
    "# Isolating Bioelectrical Signal by Leak Subtraction"
   ]
  },
  {
   "cell_type": "markdown",
   "id": "ac2e2936",
   "metadata": {},
   "source": [
    "### *Personal Note*"
   ]
  },
  {
   "cell_type": "markdown",
   "id": "8bb56bd6",
   "metadata": {},
   "source": [
    "*I selected this tutorial simply because I thought it was neat. From a general data science perspective it demonstates signal processing, parameter optimization, model fitting, and some biophysics. The data was part of a more extensive projected were I explored the application of stem cell derived cardiomyocytes in arrhythmia detection. I hope you find it interesting.*"
   ]
  },
  {
   "cell_type": "markdown",
   "id": "077911b2",
   "metadata": {},
   "source": [
    "## Introduction"
   ]
  },
  {
   "cell_type": "markdown",
   "id": "ac9e86c1",
   "metadata": {},
   "source": [
    "Electrial signals play a critical role in the normal physiology of biological cells. Consequently, it is of interest to understand and develop models of cellular electrophysiology for biotechnical and theraputic reasons. The development of electrophysiolgical models and experimental techniques to measure bioelectrical activity has an incredibly rich history. I found the field interesting because it is an area of biology that can be studied from a from a bottom-up approach.\n",
    "\n",
    "The technical setup I used to acquire the data used here is called a voltage patch clamp (VC). During a VC experiment an electrode is placed beneath the cellular membrane to control the voltage across the membrane. A time-series of voltages are then input across the cellular membrane and the total current is recorded as output.\n",
    "\n",
    "This particular data is my out-of-sample data that I need to clean up to evaluate the model's predictive performance.\n",
    "\n",
    "The time-series data is defined:\n",
    "\n",
    "***Input***: Voltage in $millivolt\\text{ }(mV) $<br>\n",
    "***Output***: Current density in $picoampere * picofarad^{-1}\\text{ }(pA/pF)$\n",
    "\n",
    "Let's take a look at the data."
   ]
  },
  {
   "cell_type": "code",
   "execution_count": 1,
   "id": "a55b5180",
   "metadata": {},
   "outputs": [],
   "source": [
    "%matplotlib inline"
   ]
  },
  {
   "cell_type": "code",
   "execution_count": 2,
   "id": "85d6d69e",
   "metadata": {},
   "outputs": [],
   "source": [
    "import pandas as pd\n",
    "import numpy as np\n",
    "import matplotlib.pyplot as plt"
   ]
  },
  {
   "cell_type": "code",
   "execution_count": 3,
   "id": "1a440ce7",
   "metadata": {},
   "outputs": [
    {
     "data": {
      "text/html": [
       "<div>\n",
       "<style scoped>\n",
       "    .dataframe tbody tr th:only-of-type {\n",
       "        vertical-align: middle;\n",
       "    }\n",
       "\n",
       "    .dataframe tbody tr th {\n",
       "        vertical-align: top;\n",
       "    }\n",
       "\n",
       "    .dataframe thead th {\n",
       "        text-align: right;\n",
       "    }\n",
       "</style>\n",
       "<table border=\"1\" class=\"dataframe\">\n",
       "  <thead>\n",
       "    <tr style=\"text-align: right;\">\n",
       "      <th></th>\n",
       "      <th>t_ms</th>\n",
       "      <th>i_pApF</th>\n",
       "      <th>mV</th>\n",
       "    </tr>\n",
       "  </thead>\n",
       "  <tbody>\n",
       "    <tr>\n",
       "      <th>0</th>\n",
       "      <td>0.0</td>\n",
       "      <td>-1.857508</td>\n",
       "      <td>-80.000000</td>\n",
       "    </tr>\n",
       "    <tr>\n",
       "      <th>1</th>\n",
       "      <td>0.1</td>\n",
       "      <td>-1.892333</td>\n",
       "      <td>-79.955966</td>\n",
       "    </tr>\n",
       "    <tr>\n",
       "      <th>2</th>\n",
       "      <td>0.2</td>\n",
       "      <td>-1.827658</td>\n",
       "      <td>-79.911932</td>\n",
       "    </tr>\n",
       "    <tr>\n",
       "      <th>3</th>\n",
       "      <td>0.3</td>\n",
       "      <td>-1.862483</td>\n",
       "      <td>-79.867898</td>\n",
       "    </tr>\n",
       "    <tr>\n",
       "      <th>4</th>\n",
       "      <td>0.4</td>\n",
       "      <td>-1.912233</td>\n",
       "      <td>-79.823864</td>\n",
       "    </tr>\n",
       "  </tbody>\n",
       "</table>\n",
       "</div>"
      ],
      "text/plain": [
       "   t_ms    i_pApF         mV\n",
       "0   0.0 -1.857508 -80.000000\n",
       "1   0.1 -1.892333 -79.955966\n",
       "2   0.2 -1.827658 -79.911932\n",
       "3   0.3 -1.862483 -79.867898\n",
       "4   0.4 -1.912233 -79.823864"
      ]
     },
     "execution_count": 3,
     "metadata": {},
     "output_type": "execute_result"
    }
   ],
   "source": [
    "c5_vc = pd.read_csv('./c5_vc_tImV.csv', delimiter=' ')\n",
    "c5_vc.head()"
   ]
  },
  {
   "cell_type": "code",
   "execution_count": 4,
   "id": "e3febe95",
   "metadata": {
    "scrolled": true
   },
   "outputs": [
    {
     "data": {
      "image/png": "[encoded data removed]",
      "text/plain": [
       "<Figure size 720x360 with 2 Axes>"
      ]
     },
     "metadata": {
      "needs_background": "light"
     },
     "output_type": "display_data"
    }
   ],
   "source": [
    "fig, (ax1, ax2) = plt.subplots(2,1, sharex=True, figsize=(10,5))\n",
    "# Draw voltage trace\n",
    "ax1.plot(c5_vc.t_ms/1000, c5_vc.mV, color='black', linestyle='--')\n",
    "ax1.set_ylabel('mV', color='black')\n",
    "ax1.yaxis.label.set(rotation='horizontal', ha='right');\n",
    "\n",
    "# Draw current trace\n",
    "ax2.plot(c5_vc.t_ms/1000, c5_vc.i_pApF, color='red')\n",
    "ax2.set_xlabel('t (s)', color='black')\n",
    "ax2.set_ylabel('pA / pF')\n",
    "ax2.yaxis.label.set(rotation='horizontal', ha='right');\n",
    "\n",
    "fig.tight_layout()\n",
    "plt.show()"
   ]
  },
  {
   "cell_type": "markdown",
   "id": "04699771",
   "metadata": {},
   "source": [
    "#### Observations and notes about the data"
   ]
  },
  {
   "cell_type": "markdown",
   "id": "ab8f059e",
   "metadata": {},
   "source": [
    "1. The command-voltage (input) waveform was choosen before the experiment. The shape mimics 4 cardiomyocyte action potentials.\n",
    "\n",
    "2. The temporal resolution is 0.1 ms.\n",
    "\n",
    "3. The signal I want to isolate is nonlinear over the votlage trace and is dependent on both time and voltage.\n",
    "\n",
    "4. There is high frequency (hf) noise component that is recorded during the experiment. The magnitude of the hf-noise is much smaller than the signal. I calibrated the equipment and try to denoise the instruments as much as possible. I also checked to ensure the hf-noise in normally distributed at several voltages prior to the experiment."
   ]
  },
  {
   "cell_type": "markdown",
   "id": "17fae3b6",
   "metadata": {},
   "source": [
    "## Linear Leak Current"
   ]
  },
  {
   "cell_type": "markdown",
   "id": "6c73a63b",
   "metadata": {},
   "source": [
    "So far, the output signal contains a nonlinear current that is from the cell (the part to isolate) and noise from the instrument. There is an additional component in the output that arises during a voltage clamp experiment because the electrode cannot be perfectly placed on the interior of the cell membrane. This component is referred to as leak current and follows Ohm's law:\n",
    "$$\n",
    "    V = IR\n",
    "$$\n",
    "where V is the voltage, I is current and R is resistance. In voltage clamp data, I is the dependent variable and V is the independent variable. So it is more useful to rewrite the equation:\n",
    "$$\n",
    "    I = GV\n",
    "$$\n",
    "where G is the conductance and is R^-1 (in nanosiemen, nS).\n",
    "\n",
    "A leak current by definition reverses direction at the origin (V=0, I=0). Other biological currents conduct specific ions (K+, Cl-, Na+, etc.) and do not have reversal potentials at the origin. These offsets are generated by the biological cell's electrical proteins that pump ions to different sides of the membrane creating a chemical potential."
   ]
  },
  {
   "cell_type": "markdown",
   "id": "9a49fa38",
   "metadata": {},
   "source": [
    "### Fitting the leak conductance *G*"
   ]
  },
  {
   "cell_type": "markdown",
   "id": "40918688",
   "metadata": {},
   "source": [
    "The data and the model equation for the leak component have been defined. The parameter to optimize is the leak conductance *G*. \n",
    "\n",
    "I will minimize the root mean squared error (RMSE) manually at first and then using library functions later."
   ]
  },
  {
   "cell_type": "markdown",
   "id": "421891b1",
   "metadata": {},
   "source": [
    "*There is an interpretation of G that can indicate the overall quality of the data, but requires more experimental context and parameters. Since the objective is to isolate the biological current, the optimized value of G will be the value that fits the leak current best.*"
   ]
  },
  {
   "cell_type": "code",
   "execution_count": 5,
   "id": "3e05dd73",
   "metadata": {},
   "outputs": [],
   "source": [
    "# Define the range of G that covers several orders of magnitude\n",
    "g_leak = np.logspace(start=-5, stop=-1, num=50, endpoint=True)  # I used some trial and error\n",
    "\n",
    "# Define a function to calculate RMSE\n",
    "def calc_rmse(i_pApF, i_leak_pApF):\n",
    "    n = float(len(i_pApF)) # number of points\n",
    "    rmse = (sum((i_pApF - i_leak_pApF)**2) / n)**0.5\n",
    "    return(rmse)\n",
    "\n",
    "# Loop through and calculate the RMSE for the conductance range\n",
    "rmse_leak = []\n",
    "for g in g_leak:\n",
    "    i_leak = (g * c5_vc.mV)\n",
    "    rmse_leak.append(calc_rmse(c5_vc.i_pApF, i_leak))"
   ]
  },
  {
   "cell_type": "code",
   "execution_count": 6,
   "id": "16cbfcf9",
   "metadata": {},
   "outputs": [
    {
     "name": "stdout",
     "output_type": "stream",
     "text": [
      "G_leak Estimate: 0.010481131341546853\n"
     ]
    },
    {
     "data": {
      "image/png": "[encoded data removed]",
      "text/plain": [
       "<Figure size 432x288 with 1 Axes>"
      ]
     },
     "metadata": {
      "needs_background": "light"
     },
     "output_type": "display_data"
    }
   ],
   "source": [
    "# Find the value of G that minimizes RMSE\n",
    "g_leak_crude = g_leak[rmse_leak.index(min(rmse_leak))]\n",
    "print(f\"G_leak Estimate: {g_leak_crude}\")\n",
    "\n",
    "# Plot RMSE v G and G-crude\n",
    "plt.plot(g_leak, rmse_leak)\n",
    "plt.xlabel('G (nS/pF)')\n",
    "plt.ylabel('RMSE (mV)')\n",
    "plt.vlines(x = g_leak_crude, ymin = min(rmse_leak), ymax = max(rmse_leak),\n",
    "           colors = 'tab:orange',\n",
    "           linestyle='--',\n",
    "           label = 'G-leak')\n",
    "plt.legend(loc=4)\n",
    "plt.show()"
   ]
  },
  {
   "cell_type": "markdown",
   "id": "7f938db8",
   "metadata": {},
   "source": [
    "*Not bad*"
   ]
  },
  {
   "cell_type": "code",
   "execution_count": 7,
   "id": "704470b4",
   "metadata": {},
   "outputs": [],
   "source": [
    "from scipy.optimize import minimize_scalar"
   ]
  },
  {
   "cell_type": "code",
   "execution_count": 8,
   "id": "e46db6e5",
   "metadata": {},
   "outputs": [],
   "source": [
    "def objective_min_rmse(g):\n",
    "    i_leak = (g * c5_vc.mV)\n",
    "    return(calc_rmse(c5_vc.i_pApF, i_leak))"
   ]
  },
  {
   "cell_type": "code",
   "execution_count": 11,
   "id": "4b28b985",
   "metadata": {
    "scrolled": true
   },
   "outputs": [
    {
     "data": {
      "text/plain": [
       "     fun: 1.2442661461134306\n",
       "    nfev: 18\n",
       "     nit: 14\n",
       " success: True\n",
       "       x: 0.011047083109320168"
      ]
     },
     "execution_count": 11,
     "metadata": {},
     "output_type": "execute_result"
    }
   ],
   "source": [
    "res = minimize_scalar(objective_min_rmse)\n",
    "res"
   ]
  },
  {
   "cell_type": "markdown",
   "id": "8a9335b1",
   "metadata": {},
   "source": [
    "### Visualization of the fitted leak current"
   ]
  },
  {
   "cell_type": "markdown",
   "id": "78f97eaa",
   "metadata": {},
   "source": []
  },
  {
   "cell_type": "code",
   "execution_count": 15,
   "id": "f95ab326",
   "metadata": {},
   "outputs": [],
   "source": [
    "i_leak_fitted = res.x * c5_vc.mV\n",
    "i_leak_subtracted = c5_vc.i_pApF - i_leak_fitted"
   ]
  },
  {
   "cell_type": "code",
   "execution_count": 16,
   "id": "e1b6b963",
   "metadata": {},
   "outputs": [
    {
     "data": {
      "image/png": "[encoded data removed]",
      "text/plain": [
       "<Figure size 720x360 with 1 Axes>"
      ]
     },
     "metadata": {
      "needs_background": "light"
     },
     "output_type": "display_data"
    }
   ],
   "source": [
    "fig, ax = plt.subplots(figsize=(10,5))\n",
    "# Draw voltage trace\n",
    "ax.plot(c5_vc.t_ms/1000, c5_vc.i_pApF, color='red')\n",
    "ax.set_ylabel('pA/pF', color='black')\n",
    "ax.yaxis.label.set(rotation='horizontal', ha='right');\n",
    "\n",
    "#\n",
    "ax.plot(c5_vc.t_ms/1000, i_leak_fitted, label='Leak Current', color='tab:gray')\n",
    "\n",
    "#\n",
    "ax.plot(c5_vc.t_ms/1000, i_leak_subtracted, label='Leak Subtracted', color='tab:blue')\n",
    "plt.show()"
   ]
  },
  {
   "cell_type": "markdown",
   "id": "333aa5bd",
   "metadata": {},
   "source": [
    "## Comparison to the predicted current from a trained model  "
   ]
  },
  {
   "cell_type": "markdown",
   "id": "7c021cca",
   "metadata": {},
   "source": [
    "I have previously trained a model."
   ]
  },
  {
   "cell_type": "code",
   "execution_count": 18,
   "id": "31254599",
   "metadata": {},
   "outputs": [
    {
     "data": {
      "text/html": [
       "<div>\n",
       "<style scoped>\n",
       "    .dataframe tbody tr th:only-of-type {\n",
       "        vertical-align: middle;\n",
       "    }\n",
       "\n",
       "    .dataframe tbody tr th {\n",
       "        vertical-align: top;\n",
       "    }\n",
       "\n",
       "    .dataframe thead th {\n",
       "        text-align: right;\n",
       "    }\n",
       "</style>\n",
       "<table border=\"1\" class=\"dataframe\">\n",
       "  <thead>\n",
       "    <tr style=\"text-align: right;\">\n",
       "      <th></th>\n",
       "      <th>I_total</th>\n",
       "      <th>I_K1</th>\n",
       "      <th>I_To</th>\n",
       "      <th>I_Kr</th>\n",
       "      <th>I_Ks</th>\n",
       "      <th>I_CaL</th>\n",
       "      <th>I_NaK</th>\n",
       "      <th>I_Na</th>\n",
       "      <th>I_NaCa</th>\n",
       "      <th>I_pCa</th>\n",
       "      <th>I_F</th>\n",
       "      <th>I_bNa</th>\n",
       "      <th>I_bCa</th>\n",
       "      <th>I_CaT</th>\n",
       "      <th>t</th>\n",
       "      <th>vcmd</th>\n",
       "    </tr>\n",
       "  </thead>\n",
       "  <tbody>\n",
       "    <tr>\n",
       "      <th>0</th>\n",
       "      <td>-0.290568</td>\n",
       "      <td>0.052684</td>\n",
       "      <td>9.196453e-21</td>\n",
       "      <td>0.000374</td>\n",
       "      <td>0.000405</td>\n",
       "      <td>-0.016171</td>\n",
       "      <td>0.091149</td>\n",
       "      <td>-0.001693</td>\n",
       "      <td>-0.025176</td>\n",
       "      <td>0.007631</td>\n",
       "      <td>-0.382574</td>\n",
       "      <td>-0.001318</td>\n",
       "      <td>-0.013278</td>\n",
       "      <td>-0.002603</td>\n",
       "      <td>0.0</td>\n",
       "      <td>-80.000000</td>\n",
       "    </tr>\n",
       "    <tr>\n",
       "      <th>1</th>\n",
       "      <td>-0.290078</td>\n",
       "      <td>0.052882</td>\n",
       "      <td>9.248325e-21</td>\n",
       "      <td>0.000376</td>\n",
       "      <td>0.000407</td>\n",
       "      <td>-0.016180</td>\n",
       "      <td>0.091184</td>\n",
       "      <td>-0.001708</td>\n",
       "      <td>-0.025111</td>\n",
       "      <td>0.007631</td>\n",
       "      <td>-0.382354</td>\n",
       "      <td>-0.001318</td>\n",
       "      <td>-0.013277</td>\n",
       "      <td>-0.002612</td>\n",
       "      <td>0.1</td>\n",
       "      <td>-79.955966</td>\n",
       "    </tr>\n",
       "    <tr>\n",
       "      <th>2</th>\n",
       "      <td>-0.289588</td>\n",
       "      <td>0.053079</td>\n",
       "      <td>9.300197e-21</td>\n",
       "      <td>0.000378</td>\n",
       "      <td>0.000409</td>\n",
       "      <td>-0.016188</td>\n",
       "      <td>0.091219</td>\n",
       "      <td>-0.001722</td>\n",
       "      <td>-0.025047</td>\n",
       "      <td>0.007631</td>\n",
       "      <td>-0.382133</td>\n",
       "      <td>-0.001317</td>\n",
       "      <td>-0.013275</td>\n",
       "      <td>-0.002622</td>\n",
       "      <td>0.2</td>\n",
       "      <td>-79.911932</td>\n",
       "    </tr>\n",
       "    <tr>\n",
       "      <th>3</th>\n",
       "      <td>-0.289098</td>\n",
       "      <td>0.053277</td>\n",
       "      <td>9.352070e-21</td>\n",
       "      <td>0.000380</td>\n",
       "      <td>0.000411</td>\n",
       "      <td>-0.016197</td>\n",
       "      <td>0.091253</td>\n",
       "      <td>-0.001737</td>\n",
       "      <td>-0.024982</td>\n",
       "      <td>0.007631</td>\n",
       "      <td>-0.381913</td>\n",
       "      <td>-0.001317</td>\n",
       "      <td>-0.013274</td>\n",
       "      <td>-0.002631</td>\n",
       "      <td>0.3</td>\n",
       "      <td>-79.867898</td>\n",
       "    </tr>\n",
       "    <tr>\n",
       "      <th>4</th>\n",
       "      <td>-0.288608</td>\n",
       "      <td>0.053474</td>\n",
       "      <td>9.403942e-21</td>\n",
       "      <td>0.000382</td>\n",
       "      <td>0.000413</td>\n",
       "      <td>-0.016206</td>\n",
       "      <td>0.091288</td>\n",
       "      <td>-0.001751</td>\n",
       "      <td>-0.024918</td>\n",
       "      <td>0.007631</td>\n",
       "      <td>-0.381692</td>\n",
       "      <td>-0.001317</td>\n",
       "      <td>-0.013272</td>\n",
       "      <td>-0.002641</td>\n",
       "      <td>0.4</td>\n",
       "      <td>-79.823864</td>\n",
       "    </tr>\n",
       "  </tbody>\n",
       "</table>\n",
       "</div>"
      ],
      "text/plain": [
       "    I_total      I_K1          I_To      I_Kr      I_Ks     I_CaL     I_NaK  \\\n",
       "0 -0.290568  0.052684  9.196453e-21  0.000374  0.000405 -0.016171  0.091149   \n",
       "1 -0.290078  0.052882  9.248325e-21  0.000376  0.000407 -0.016180  0.091184   \n",
       "2 -0.289588  0.053079  9.300197e-21  0.000378  0.000409 -0.016188  0.091219   \n",
       "3 -0.289098  0.053277  9.352070e-21  0.000380  0.000411 -0.016197  0.091253   \n",
       "4 -0.288608  0.053474  9.403942e-21  0.000382  0.000413 -0.016206  0.091288   \n",
       "\n",
       "       I_Na    I_NaCa     I_pCa       I_F     I_bNa     I_bCa     I_CaT    t  \\\n",
       "0 -0.001693 -0.025176  0.007631 -0.382574 -0.001318 -0.013278 -0.002603  0.0   \n",
       "1 -0.001708 -0.025111  0.007631 -0.382354 -0.001318 -0.013277 -0.002612  0.1   \n",
       "2 -0.001722 -0.025047  0.007631 -0.382133 -0.001317 -0.013275 -0.002622  0.2   \n",
       "3 -0.001737 -0.024982  0.007631 -0.381913 -0.001317 -0.013274 -0.002631  0.3   \n",
       "4 -0.001751 -0.024918  0.007631 -0.381692 -0.001317 -0.013272 -0.002641  0.4   \n",
       "\n",
       "        vcmd  \n",
       "0 -80.000000  \n",
       "1 -79.955966  \n",
       "2 -79.911932  \n",
       "3 -79.867898  \n",
       "4 -79.823864  "
      ]
     },
     "execution_count": 18,
     "metadata": {},
     "output_type": "execute_result"
    }
   ],
   "source": [
    "model = pd.read_csv('model_3_kernik_vcp.txt', delimiter=' ')\n",
    "model.head()"
   ]
  },
  {
   "cell_type": "code",
   "execution_count": 22,
   "id": "9344fa33",
   "metadata": {},
   "outputs": [
    {
     "data": {
      "image/png": "[encoded data removed]",
      "text/plain": [
       "<Figure size 720x360 with 1 Axes>"
      ]
     },
     "metadata": {
      "needs_background": "light"
     },
     "output_type": "display_data"
    }
   ],
   "source": [
    "fig, ax = plt.subplots(figsize=(10,5))\n",
    "\n",
    "#\n",
    "ax.plot(c5_vc.t_ms/1000, i_leak_subtracted, label='Leak Subtracted', color='tab:blue')\n",
    "\n",
    "#\n",
    "ax.plot(model.t/1000, model.I_total, label='Predicted', color='tab:orange')\n",
    "plt.show()"
   ]
  }
 ],
 "metadata": {
  "kernelspec": {
   "display_name": "Python 3",
   "language": "python",
   "name": "python3"
  },
  "language_info": {
   "codemirror_mode": {
    "name": "ipython",
    "version": 3
   },
   "file_extension": ".py",
   "mimetype": "text/x-python",
   "name": "python",
   "nbconvert_exporter": "python",
   "pygments_lexer": "ipython3",
   "version": "3.8.8"
  }
 },
 "nbformat": 4,
 "nbformat_minor": 5
}
