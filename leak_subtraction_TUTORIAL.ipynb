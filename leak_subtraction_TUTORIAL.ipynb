{
 "cells": [
  {
   "cell_type": "markdown",
   "id": "c7c1f919",
   "metadata": {},
   "source": [
    "# Isolating Bioelectrical Signal by Leak Subtraction"
   ]
  },
  {
   "cell_type": "markdown",
   "id": "ac2e2936",
   "metadata": {},
   "source": [
    "### *Personal Note*"
   ]
  },
  {
   "cell_type": "markdown",
   "id": "8bb56bd6",
   "metadata": {},
   "source": [
    "*I selected this tutorial simply because I thought it was neat. From a general data science perspective it demonstates signal processing, parameter optimization, overfitting, and the importance of domain knowledge (without getting too deep in the weeds). The data was part of a more extensive projected were I explored the application of stem cell derived cardiomyocytes in arrhythmia detection. I hope you find it interesting.*"
   ]
  },
  {
   "cell_type": "markdown",
   "id": "077911b2",
   "metadata": {},
   "source": [
    "## Introduction"
   ]
  },
  {
   "cell_type": "markdown",
   "id": "ac9e86c1",
   "metadata": {},
   "source": [
    "Electrial signals play a critical role in the normal physiology of biological cells. Consequently, it is of interest to understand and develop models of cellular electrophysiology for biotechnical and theraputic reasons. The development of electrophysiolgical models and experimental techniques to measure bioelectrical activity has an incredibly rich history. I found the field interesting because it is an area of biology that can be studied from a from a bottom-up approach.\n",
    "\n",
    "The technical setup I used to acquire the data used here is called a voltage patch clamp (VC). During a VC experiment an electrode is placed beneath the cellular membrane to control the voltage across the membrane. A time-series of voltages are then input across the cellular membrane and the total current is recorded as output.\n",
    "\n",
    "This particular data is my out-of-sample data that I need to clean up to evaluate the model's predictive performance.\n",
    "\n",
    "The time-series data is defined:\n",
    "\n",
    "***Input***: Voltage in $millivolt\\text{ }(mV) $<br>\n",
    "***Output***: Current density in $picoampere * picofarad^{-1}\\text{ }(pA/pF)$\n",
    "\n",
    "Let's take a look at the data."
   ]
  },
  {
   "cell_type": "code",
   "execution_count": 1,
   "id": "85d6d69e",
   "metadata": {},
   "outputs": [],
   "source": [
    "import pandas as pd\n",
    "import matplotlib.pyplot as plt"
   ]
  },
  {
   "cell_type": "code",
   "execution_count": 4,
   "id": "1a440ce7",
   "metadata": {},
   "outputs": [
    {
     "data": {
      "text/html": [
       "<div>\n",
       "<style scoped>\n",
       "    .dataframe tbody tr th:only-of-type {\n",
       "        vertical-align: middle;\n",
       "    }\n",
       "\n",
       "    .dataframe tbody tr th {\n",
       "        vertical-align: top;\n",
       "    }\n",
       "\n",
       "    .dataframe thead th {\n",
       "        text-align: right;\n",
       "    }\n",
       "</style>\n",
       "<table border=\"1\" class=\"dataframe\">\n",
       "  <thead>\n",
       "    <tr style=\"text-align: right;\">\n",
       "      <th></th>\n",
       "      <th>t_ms</th>\n",
       "      <th>i_pApF</th>\n",
       "      <th>mV</th>\n",
       "    </tr>\n",
       "  </thead>\n",
       "  <tbody>\n",
       "    <tr>\n",
       "      <th>0</th>\n",
       "      <td>0.0</td>\n",
       "      <td>-1.857508</td>\n",
       "      <td>-80.000000</td>\n",
       "    </tr>\n",
       "    <tr>\n",
       "      <th>1</th>\n",
       "      <td>0.1</td>\n",
       "      <td>-1.892333</td>\n",
       "      <td>-79.955966</td>\n",
       "    </tr>\n",
       "    <tr>\n",
       "      <th>2</th>\n",
       "      <td>0.2</td>\n",
       "      <td>-1.827658</td>\n",
       "      <td>-79.911932</td>\n",
       "    </tr>\n",
       "    <tr>\n",
       "      <th>3</th>\n",
       "      <td>0.3</td>\n",
       "      <td>-1.862483</td>\n",
       "      <td>-79.867898</td>\n",
       "    </tr>\n",
       "    <tr>\n",
       "      <th>4</th>\n",
       "      <td>0.4</td>\n",
       "      <td>-1.912233</td>\n",
       "      <td>-79.823864</td>\n",
       "    </tr>\n",
       "  </tbody>\n",
       "</table>\n",
       "</div>"
      ],
      "text/plain": [
       "   t_ms    i_pApF         mV\n",
       "0   0.0 -1.857508 -80.000000\n",
       "1   0.1 -1.892333 -79.955966\n",
       "2   0.2 -1.827658 -79.911932\n",
       "3   0.3 -1.862483 -79.867898\n",
       "4   0.4 -1.912233 -79.823864"
      ]
     },
     "execution_count": 4,
     "metadata": {},
     "output_type": "execute_result"
    }
   ],
   "source": [
    "c5_vc = pd.read_csv('./c5_vc_tImV.csv', delimiter=' ')\n",
    "c5_vc.head()"
   ]
  },
  {
   "cell_type": "code",
   "execution_count": 5,
   "id": "e3febe95",
   "metadata": {},
   "outputs": [
    {
     "data": {
      "image/png": "[encoded data removed]",
      "text/plain": [
       "<Figure size 432x288 with 1 Axes>"
      ]
     },
     "metadata": {
      "needs_background": "light"
     },
     "output_type": "display_data"
    }
   ],
   "source": [
    "ax = plt.subplot()\n",
    "plt.plot(c5_vc.t_ms, c5_vc.mV, color='gray', linestyle='--')\n",
    "plt.plot(c5_vc.t_ms, c5_vc.i_pApF, color='red')\n",
    "plt.show()"
   ]
  },
  {
   "cell_type": "markdown",
   "id": "04699771",
   "metadata": {},
   "source": [
    "#### Notes about the data"
   ]
  },
  {
   "cell_type": "markdown",
   "id": "ab8f059e",
   "metadata": {},
   "source": [
    "The command-voltage (input) waveform was choosen before the experiment and mimics what a single cell would \n",
    "\n",
    "*Why is the output in a current density rather than $pA$?* <br>\n",
    "The raw output from the experiment current is in $pA$ (or the scale set on the amplifier). Cells vary in size and larger cells can have larger current magnitude. Durning a voltage step the cellular membrane acts as a capacitor as it gets charged by the electrode. The capacitative current in proportional to the cell size and is calculated beforehand.\n",
    "\n",
    "The temporal resolution is 0.1 ms."
   ]
  },
  {
   "cell_type": "code",
   "execution_count": null,
   "id": "5ba3c686",
   "metadata": {},
   "outputs": [],
   "source": []
  }
 ],
 "metadata": {
  "kernelspec": {
   "display_name": "Python 3",
   "language": "python",
   "name": "python3"
  },
  "language_info": {
   "codemirror_mode": {
    "name": "ipython",
    "version": 3
   },
   "file_extension": ".py",
   "mimetype": "text/x-python",
   "name": "python",
   "nbconvert_exporter": "python",
   "pygments_lexer": "ipython3",
   "version": "3.8.8"
  }
 },
 "nbformat": 4,
 "nbformat_minor": 5
}
