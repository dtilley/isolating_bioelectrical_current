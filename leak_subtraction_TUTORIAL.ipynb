{
 "cells": [
  {
   "cell_type": "markdown",
   "id": "c7c1f919",
   "metadata": {},
   "source": [
    "# Isolating Bioelectrical Signal by Leak Subtraction"
   ]
  },
  {
   "cell_type": "markdown",
   "id": "ac2e2936",
   "metadata": {},
   "source": [
    "### *Personal Note*"
   ]
  },
  {
   "cell_type": "markdown",
   "id": "8bb56bd6",
   "metadata": {},
   "source": [
    "*I selected this tutorial simply because I thought it was neat. From a general data science perspective it demonstates signal processing, parameter optimization, model fitting, and some biophysics. The data was part of a more extensive projected were I explored the application of stem cell derived cardiomyocytes in arrhythmia detection. I hope you find it interesting.*"
   ]
  },
  {
   "cell_type": "markdown",
   "id": "077911b2",
   "metadata": {},
   "source": [
    "## Introduction"
   ]
  },
  {
   "cell_type": "markdown",
   "id": "ac9e86c1",
   "metadata": {},
   "source": [
    "Electrial signals play a critical role in the normal physiology of biological cells. Consequently, it is of interest to understand and develop models of cellular electrophysiology for biotechnical and theraputic reasons. The development of electrophysiolgical models and experimental techniques to measure bioelectrical activity has an incredibly rich history. I found the field interesting because it is an area of biology that can be studied from a from a bottom-up approach.\n",
    "\n",
    "The technical setup I used to acquire the data used here is called a voltage patch clamp (VC). During a VC experiment an electrode is placed beneath the cellular membrane to control the voltage across the membrane. A time-series of voltages are then input across the cellular membrane and the total current is recorded as output.\n",
    "\n",
    "This particular data is my out-of-sample data that I need to clean up to evaluate the model's predictive performance.\n",
    "\n",
    "The time-series data is defined:\n",
    "\n",
    "***Input***: Voltage in $millivolt\\text{ }(mV) $<br>\n",
    "***Output***: Current density in $picoampere * picofarad^{-1}\\text{ }(pA/pF)$\n",
    "\n",
    "Let's take a look at the data."
   ]
  },
  {
   "cell_type": "code",
   "execution_count": 4,
   "id": "a55b5180",
   "metadata": {},
   "outputs": [],
   "source": [
    "%matplotlib inline"
   ]
  },
  {
   "cell_type": "code",
   "execution_count": 3,
   "id": "85d6d69e",
   "metadata": {},
   "outputs": [],
   "source": [
    "import pandas as pd\n",
    "import numpy as np\n",
    "import matplotlib.pyplot as plt"
   ]
  },
  {
   "cell_type": "code",
   "execution_count": 5,
   "id": "1a440ce7",
   "metadata": {},
   "outputs": [
    {
     "data": {
      "text/html": [
       "<div>\n",
       "<style scoped>\n",
       "    .dataframe tbody tr th:only-of-type {\n",
       "        vertical-align: middle;\n",
       "    }\n",
       "\n",
       "    .dataframe tbody tr th {\n",
       "        vertical-align: top;\n",
       "    }\n",
       "\n",
       "    .dataframe thead th {\n",
       "        text-align: right;\n",
       "    }\n",
       "</style>\n",
       "<table border=\"1\" class=\"dataframe\">\n",
       "  <thead>\n",
       "    <tr style=\"text-align: right;\">\n",
       "      <th></th>\n",
       "      <th>t_ms</th>\n",
       "      <th>i_pApF</th>\n",
       "      <th>mV</th>\n",
       "    </tr>\n",
       "  </thead>\n",
       "  <tbody>\n",
       "    <tr>\n",
       "      <th>0</th>\n",
       "      <td>0.0</td>\n",
       "      <td>-1.857508</td>\n",
       "      <td>-80.000000</td>\n",
       "    </tr>\n",
       "    <tr>\n",
       "      <th>1</th>\n",
       "      <td>0.1</td>\n",
       "      <td>-1.892333</td>\n",
       "      <td>-79.955966</td>\n",
       "    </tr>\n",
       "    <tr>\n",
       "      <th>2</th>\n",
       "      <td>0.2</td>\n",
       "      <td>-1.827658</td>\n",
       "      <td>-79.911932</td>\n",
       "    </tr>\n",
       "    <tr>\n",
       "      <th>3</th>\n",
       "      <td>0.3</td>\n",
       "      <td>-1.862483</td>\n",
       "      <td>-79.867898</td>\n",
       "    </tr>\n",
       "    <tr>\n",
       "      <th>4</th>\n",
       "      <td>0.4</td>\n",
       "      <td>-1.912233</td>\n",
       "      <td>-79.823864</td>\n",
       "    </tr>\n",
       "  </tbody>\n",
       "</table>\n",
       "</div>"
      ],
      "text/plain": [
       "   t_ms    i_pApF         mV\n",
       "0   0.0 -1.857508 -80.000000\n",
       "1   0.1 -1.892333 -79.955966\n",
       "2   0.2 -1.827658 -79.911932\n",
       "3   0.3 -1.862483 -79.867898\n",
       "4   0.4 -1.912233 -79.823864"
      ]
     },
     "execution_count": 5,
     "metadata": {},
     "output_type": "execute_result"
    }
   ],
   "source": [
    "c5_vc = pd.read_csv('./c5_vc_tImV.csv', delimiter=' ')\n",
    "c5_vc.head()"
   ]
  },
  {
   "cell_type": "code",
   "execution_count": 6,
   "id": "e3febe95",
   "metadata": {
    "scrolled": true
   },
   "outputs": [
    {
     "data": {
      "image/png": "[encoded data removed]",
      "text/plain": [
       "<Figure size 720x360 with 2 Axes>"
      ]
     },
     "metadata": {
      "needs_background": "light"
     },
     "output_type": "display_data"
    }
   ],
   "source": [
    "fig, (ax1, ax2) = plt.subplots(2,1, sharex=True, figsize=(10,5))\n",
    "# Draw voltage trace\n",
    "ax1.plot(c5_vc.t_ms/1000, c5_vc.mV, color='black', linestyle='--')\n",
    "ax1.set_ylabel('mV', color='black')\n",
    "ax1.yaxis.label.set(rotation='horizontal', ha='right');\n",
    "\n",
    "# Draw current trace\n",
    "ax2.plot(c5_vc.t_ms/1000, c5_vc.i_pApF, color='red')\n",
    "ax2.set_xlabel('t (s)', color='black')\n",
    "ax2.set_ylabel('pA / pF')\n",
    "ax2.yaxis.label.set(rotation='horizontal', ha='right');\n",
    "\n",
    "fig.tight_layout()\n",
    "plt.show()"
   ]
  },
  {
   "cell_type": "markdown",
   "id": "04699771",
   "metadata": {},
   "source": [
    "#### Observations and notes about the data"
   ]
  },
  {
   "cell_type": "markdown",
   "id": "ab8f059e",
   "metadata": {},
   "source": [
    "1. The command-voltage (input) waveform was choosen before the experiment. The shape mimics 4 cardiomyocyte action potentials.\n",
    "\n",
    "2. The temporal resolution is 0.1 ms.\n",
    "\n",
    "3. The signal I want to isolate is nonlinear over the votlage trace and is dependent on both time and voltage.\n",
    "\n",
    "4. There is high frequency (hf) noise component that is recorded during the experiment. The magnitude of the hf-noise is much smaller than the signal. I calibrated the equipment and try to denoise the instruments as much as possible. I also checked to ensure the hf-noise in normally distributed at several voltages prior to the experiment."
   ]
  },
  {
   "cell_type": "markdown",
   "id": "17fae3b6",
   "metadata": {},
   "source": [
    "## Linear Leak Current"
   ]
  },
  {
   "cell_type": "markdown",
   "id": "6c73a63b",
   "metadata": {},
   "source": [
    "So far, the output signal contains a nonlinear current that is from the cell (the part to isolate) and noise from the instrument. There is an additional component in the output that arises during a voltage clamp experiment because the electrode cannot be perfectly placed on the interior of the cell membrane. This component is referred to as leak current and follows Ohm's law:\n",
    "$$\n",
    "    V = IR\n",
    "$$\n",
    "where V is the voltage, I is current and R is resistance. In voltage clamp data, I is the dependent variable and V is the independent variable. So it is more useful to rewrite the equation:\n",
    "$$\n",
    "    I = GV\n",
    "$$\n",
    "where G is the conductance and is R^-1 (in nanosiemen, nS).\n",
    "\n",
    "A leak current by definition reverses direction at the origin (V=0, I=0). Other biological currents conduct specific ions (K+, Cl-, Na+, etc.) and do not have reversal potentials at the origin. These offsets are generated by the biological cell's electrical proteins that pump ions to different sides of the membrane creating a chemical potential."
   ]
  },
  {
   "cell_type": "markdown",
   "id": "9a49fa38",
   "metadata": {},
   "source": [
    "### Fitting the leak conductance *G*"
   ]
  },
  {
   "cell_type": "markdown",
   "id": "40918688",
   "metadata": {},
   "source": [
    "The data and the model equation for the leak component have been defined. The parameter to optimize is the leak conductance *G*. \n",
    "\n",
    "I will minimize the root mean squared error (RMSE) manually at first and then using library functions later."
   ]
  },
  {
   "cell_type": "markdown",
   "id": "421891b1",
   "metadata": {},
   "source": [
    "*There is an interpretation of G that can indicate the overall quality of the data, but requires more experimental context and parameters. Since the objective is to isolate the biological current, the optimized value of G will be the value best removes the leak current.*"
   ]
  },
  {
   "cell_type": "code",
   "execution_count": 23,
   "id": "3e05dd73",
   "metadata": {},
   "outputs": [],
   "source": [
    "# Define the range of G that covers several orders of magnitude\n",
    "g_leak = np.logspace(start=-5, stop=-1, num=50, endpoint=True)  # I used some trial and error\n",
    "\n",
    "# Define a function to calculate RMSE\n",
    "def calc_rmse(i_pApF, i_leak_pApF):\n",
    "    n = float(len(i_pApF)) # number of points\n",
    "    rmse = (sum((i_pApF - i_leak_pApF)**2) / n)**0.5\n",
    "    return(rmse)\n",
    "\n",
    "# Loop through and calculate the RMSE for the conductance range\n",
    "rmse_leak = []\n",
    "for g in g_leak:\n",
    "    i_leak = (g * c5_vc.mV)\n",
    "    rmse_leak.append(calc_rmse(c5_vc.i_pApF, i_leak))"
   ]
  },
  {
   "cell_type": "code",
   "execution_count": 33,
   "id": "16cbfcf9",
   "metadata": {},
   "outputs": [
    {
     "data": {
      "image/png": "[encoded data removed]",
      "text/plain": [
       "<Figure size 432x288 with 1 Axes>"
      ]
     },
     "metadata": {
      "needs_background": "light"
     },
     "output_type": "display_data"
    }
   ],
   "source": [
    "# Find the value of G that minimizes RMSE\n",
    "g_leak_crude = g_leak[rmse_leak.index(min(rmse_leak))]\n",
    "\n",
    "# Plot RMSE v G and G-crude\n",
    "plt.plot(g_leak, rmse_leak)\n",
    "plt.xlabel('G (nS/pF)')\n",
    "plt.ylabel('RMSE (mV)')\n",
    "plt.vlines(x = g_leak_crude, ymin = min(rmse_leak), ymax = max(rmse_leak),\n",
    "           colors = 'tab:orange',\n",
    "           linestyle='--',\n",
    "           label = 'G-crude')\n",
    "plt.legend(loc=4)\n",
    "plt.show()"
   ]
  },
  {
   "cell_type": "code",
   "execution_count": 26,
   "id": "e5328ebe",
   "metadata": {},
   "outputs": [
    {
     "data": {
      "text/plain": [
       "0.010481131341546853"
      ]
     },
     "execution_count": 26,
     "metadata": {},
     "output_type": "execute_result"
    }
   ],
   "source": [
    "g_leak_crude = g_leak[rmse_leak.index(min(rmse_leak))]\n",
    "g_leak_crude"
   ]
  },
  {
   "cell_type": "code",
   "execution_count": null,
   "id": "bd95f7ff",
   "metadata": {},
   "outputs": [],
   "source": []
  }
 ],
 "metadata": {
  "kernelspec": {
   "display_name": "Python 3",
   "language": "python",
   "name": "python3"
  },
  "language_info": {
   "codemirror_mode": {
    "name": "ipython",
    "version": 3
   },
   "file_extension": ".py",
   "mimetype": "text/x-python",
   "name": "python",
   "nbconvert_exporter": "python",
   "pygments_lexer": "ipython3",
   "version": "3.8.8"
  }
 },
 "nbformat": 4,
 "nbformat_minor": 5
}
